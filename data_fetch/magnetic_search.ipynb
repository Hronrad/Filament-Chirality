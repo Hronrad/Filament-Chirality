{
 "cells": [
  {
   "cell_type": "code",
   "execution_count": 1,
   "metadata": {},
   "outputs": [],
   "source": [
    "import pandas as pd\n",
    "import numpy as np\n",
    "import datetime\n",
    "import sunpy.map\n",
    "import sunpy.data.sample\n",
    "from sunpy.net import Fido, jsoc, attrs as a\n",
    "import astropy.units as u"
   ]
  },
  {
   "cell_type": "code",
   "execution_count": 9,
   "metadata": {},
   "outputs": [],
   "source": [
    "df = pd.read_excel('eruptedFilamentsList.xlsx', sheet_name='Sheet1')  \n",
    "SOLstr = df.iloc[1::2, 0].tolist()\n",
    "# 提取时间部分并转换为 datetime 类型\n",
    "time_ls = [pd.to_datetime(s[3:22], format='%Y-%m-%dT%H:%M:%S') for s in SOLstr]\n"
   ]
  },
  {
   "cell_type": "code",
   "execution_count": 4,
   "metadata": {},
   "outputs": [],
   "source": [
    "def union(lst):\n",
    "    result = lst[0]\n",
    "    for i in range(len(lst)):\n",
    "        result |= lst[i]\n",
    "    return result"
   ]
  },
  {
   "cell_type": "code",
   "execution_count": null,
   "metadata": {},
   "outputs": [],
   "source": [
    "import time\n",
    "client = jsoc.JSOCClient()\n",
    "# 设置时间范围\n",
    "time_all = []\n",
    "for i in range(len(time_ls)):\n",
    "    time_range = a.Time(time_ls[i] - datetime.timedelta(seconds=31), time_ls[i] - datetime.timedelta(seconds=30))\n",
    "    time_all.append(time_range)\n",
    "\n",
    "# 设置搜索条件\n",
    "for i in range(len(time_all)):\n",
    "    result = client.search(time_all[i],\n",
    "                        a.jsoc.Series('hmi.M_45s'),\n",
    "                        a.jsoc.Notify('211503020@smail.nju.edu.cn'),\n",
    "                        a.jsoc.Segment('magnetogram'))\n",
    "    while True:\n",
    "        try:\n",
    "            requests0 = client.request_data(result)\n",
    "            res = client.get_request(requests0, path='D:\\\\labeledFilaments\\\\111')\n",
    "            break\n",
    "        except:\n",
    "            time.sleep(5)\n",
    "        \n"
   ]
  },
  {
   "cell_type": "code",
   "execution_count": 10,
   "metadata": {},
   "outputs": [
    {
     "name": "stdout",
     "output_type": "stream",
     "text": [
      "538\n"
     ]
    }
   ],
   "source": [
    "# 原时间序列中有无时间过近的情况\n",
    "save_1 = []\n",
    "for i in range(len(time_ls)-1):\n",
    "    delta = time_ls[i+1] - time_ls[i]\n",
    "    if (delta < datetime.timedelta(seconds = 120))&(delta != datetime.timedelta(0)):\n",
    "        print(delta)\n",
    "        save_1.append(time_ls[i])\n",
    "        save_1.append(time_ls[i+1])\n",
    "        i += 1\n",
    "\n",
    "time_ls_set = set(time_ls)\n",
    "time1_ls = list(time_ls_set)\n",
    "\n",
    "print(len(time_ls_set))\n",
    "time1_ls = sorted(time1_ls)"
   ]
  },
  {
   "cell_type": "code",
   "execution_count": 38,
   "metadata": {},
   "outputs": [
    {
     "name": "stdout",
     "output_type": "stream",
     "text": [
      "0\n",
      "0\n"
     ]
    }
   ],
   "source": [
    "# 查找已下载数据中过近的\n",
    "import os\n",
    "\n",
    "folder = 'D:\\\\labeledFilaments\\\\111'\n",
    "file_ls = os.listdir(folder)\n",
    "file_ls = sorted(file_ls)\n",
    "total = len(file_ls)\n",
    "file_time_ls = [pd.to_datetime(s[10:25], format='%Y%m%d_%H%M%S') for s in file_ls]\n",
    "file_time_ls = sorted(file_time_ls)\n",
    "save_2 = []\n",
    "save_index = []\n",
    "for i in range(len(file_time_ls)-1):\n",
    "    delta = file_time_ls[i+1] - file_time_ls[i]\n",
    "    if (delta < datetime.timedelta(seconds = 60)):\n",
    "\n",
    "        save_2.append(file_time_ls[i])\n",
    "        save_2.append(file_time_ls[i+1])\n",
    "        save_index.append(i+1)\n",
    "print(len(save_2))\n",
    "print(len(save_index))\n",
    "# rm_names = [file_ls[i] for i in save_index]\n",
    "# for name in rm_names:\n",
    "#     os.remove(os.path.join(folder, name))"
   ]
  },
  {
   "cell_type": "code",
   "execution_count": 56,
   "metadata": {},
   "outputs": [
    {
     "name": "stdout",
     "output_type": "stream",
     "text": [
      "2015-02-04 18:00:03\n",
      "hmi.m_45s.20140718_000000_TAI.2.magnetogram.fits\n"
     ]
    }
   ],
   "source": [
    "print(time1_ls[472])\n",
    "print(file_ls[431])  # 缺少timels 431(2014-07-09 17:06:03) 472(2015-02-04 18:00:03)"
   ]
  },
  {
   "cell_type": "code",
   "execution_count": 47,
   "metadata": {},
   "outputs": [],
   "source": [
    "# for i in range(len(file_time_ls)):\n",
    "#     if (file_time_ls[i] - time1_ls[i]) > datetime.timedelta(minutes= 10):\n",
    "#         print(i)\n",
    "#         print(file_time_ls[i])\n",
    "#         print(time1_ls[i])\n",
    "#         print(file_ls[i])\n",
    "#         print('-----------------')\n",
    "\n",
    "for j in range(471, len(file_time_ls)-2):\n",
    "    if ((file_time_ls[j] - time1_ls[j+2]) > datetime.timedelta(minutes= 10))|((file_time_ls[j] - time1_ls[j+1]) < datetime.timedelta(minutes= -10)):\n",
    "        print(j)\n",
    "        print(file_time_ls[j])\n",
    "        print(time1_ls[j+2])\n",
    "        print(file_ls[j])\n",
    "        print('-----------------')"
   ]
  },
  {
   "cell_type": "code",
   "execution_count": 8,
   "metadata": {},
   "outputs": [
    {
     "name": "stdout",
     "output_type": "stream",
     "text": [
      "         T_REC          TELESCOP INSTRUME WAVELNTH CAR_ROT\n",
      "----------------------- -------- -------- -------- -------\n",
      "2011.04.02_09:00:00_TAI  SDO/HMI  MISSING   6173.0      --\n",
      "2011.04.02_09:00:45_TAI  SDO/HMI  MISSING   6173.0      --\n",
      "2011.04.02_09:01:30_TAI  SDO/HMI  MISSING   6173.0      --\n",
      "1 URLs found for download. Full request totalling 0MB\n"
     ]
    },
    {
     "data": {
      "application/vnd.jupyter.widget-view+json": {
       "model_id": "3bde6f34ca7249a2b55e08ea3c43ed8d",
       "version_major": 2,
       "version_minor": 0
      },
      "text/plain": [
       "Files Downloaded:   0%|          | 0/1 [00:00<?, ?file/s]"
      ]
     },
     "metadata": {},
     "output_type": "display_data"
    }
   ],
   "source": [
    "# 查漏补缺\n",
    "import time\n",
    "client = jsoc.JSOCClient()\n",
    "result1 = client.search(a.Time('2011-04-02T08:59:30', '2011-04-02T09:01:00'),\n",
    "                        a.jsoc.Series('hmi.M_45s'),\n",
    "                        a.jsoc.Notify('211503020@smail.nju.edu.cn'),\n",
    "                        a.jsoc.Segment('magnetogram'))\n",
    "    \n",
    "requests1 = client.request_data(result1)\n",
    "print(result1)\n",
    "res1 = client.get_request(requests1, path='D:\\\\labeledFilaments\\\\112')"
   ]
  },
  {
   "cell_type": "code",
   "execution_count": 59,
   "metadata": {},
   "outputs": [
    {
     "name": "stdout",
     "output_type": "stream",
     "text": [
      "536\n",
      "536\n"
     ]
    }
   ],
   "source": [
    "# 将ttime1_ls写入文件\n",
    "with open('time1_ls.txt', 'w') as f:\n",
    "    for i in range(len(time1_ls)):\n",
    "        if i != 431 | 472:\n",
    "            f.write(str(i) + '  ' + str(time1_ls[i]) + '\\n')\n",
    "print(len(time1_ls) - 2)\n",
    "print(len(file_time_ls))"
   ]
  },
  {
   "cell_type": "code",
   "execution_count": 86,
   "metadata": {},
   "outputs": [
    {
     "data": {
      "text/plain": [
       "[{'start_time': <Time object: scale='utc' format='datetime64' value=2010-05-26T06:18:27.000000000>,\n",
       "  'end_time': <Time object: scale='utc' format='datetime64' value=2010-05-26T06:18:28.000000000>,\n",
       "  'series': 'hmi.M_45s',\n",
       "  'notify': '211503020@smail.nju.edu.cn',\n",
       "  'segment': ['magnetogram']}]"
      ]
     },
     "execution_count": 86,
     "metadata": {},
     "output_type": "execute_result"
    }
   ],
   "source": [
    "# 获取查询结果的时间戳数据\n",
    "t_rec = result['T_REC']\n",
    "\n",
    "# 将时间戳数据转换为一个列表\n",
    "t_rec_list = t_rec.tolist()\n",
    "\n",
    "t_rec_list = pd.to_datetime(t_rec_list, format='%Y.%m.%d_%H:%M:%S_TAI')\n",
    "\n",
    "min_index = np.argmin(abs(t_rec_list - target_time))\n",
    "\n",
    "# 获取与指定时间最接近的结果\n",
    "result_row = result[min_index].as_table()\n",
    "\n",
    "result_row.query_args"
   ]
  },
  {
   "cell_type": "code",
   "execution_count": 87,
   "metadata": {},
   "outputs": [
    {
     "name": "stdout",
     "output_type": "stream",
     "text": [
      "1 URLs found for download. Full request totalling 14MB\n"
     ]
    },
    {
     "data": {
      "application/vnd.jupyter.widget-view+json": {
       "model_id": "b41793ef879c4545b12d437b7fe1aa6e",
       "version_major": 2,
       "version_minor": 0
      },
      "text/plain": [
       "Files Downloaded:   0%|          | 0/1 [00:00<?, ?file/s]"
      ]
     },
     "metadata": {},
     "output_type": "display_data"
    },
    {
     "data": {
      "application/vnd.jupyter.widget-view+json": {
       "model_id": "539f150fd83c4f45919f04c7711494ed",
       "version_major": 2,
       "version_minor": 0
      },
      "text/plain": [
       "hmi.m_45s.20100526_061845_TAI.2.magnetogram.fits:   0%|          | 0.00/14.8M [00:00<?, ?B/s]"
      ]
     },
     "metadata": {},
     "output_type": "display_data"
    },
    {
     "ename": "AttributeError",
     "evalue": "'Results' object has no attribute 'wait'",
     "output_type": "error",
     "traceback": [
      "\u001b[1;31m---------------------------------------------------------------------------\u001b[0m",
      "\u001b[1;31mAttributeError\u001b[0m                            Traceback (most recent call last)",
      "\u001b[1;32md:\\labeledFilaments\\search.ipynb Cell 7\u001b[0m in \u001b[0;36m4\n\u001b[0;32m      <a href='vscode-notebook-cell:/d%3A/labeledFilaments/search.ipynb#W6sZmlsZQ%3D%3D?line=1'>2</a>\u001b[0m requests \u001b[39m=\u001b[39m client\u001b[39m.\u001b[39mrequest_data(result_row)\n\u001b[0;32m      <a href='vscode-notebook-cell:/d%3A/labeledFilaments/search.ipynb#W6sZmlsZQ%3D%3D?line=2'>3</a>\u001b[0m res \u001b[39m=\u001b[39m client\u001b[39m.\u001b[39mget_request(requests)\n\u001b[1;32m----> <a href='vscode-notebook-cell:/d%3A/labeledFilaments/search.ipynb#W6sZmlsZQ%3D%3D?line=3'>4</a>\u001b[0m res\u001b[39m.\u001b[39;49mwait(progress\u001b[39m=\u001b[39m\u001b[39mTrue\u001b[39;00m)\n",
      "\u001b[1;31mAttributeError\u001b[0m: 'Results' object has no attribute 'wait'"
     ]
    }
   ],
   "source": [
    "\n",
    "# 请求数据\n",
    "requests = client.request_data(result_row)\n",
    "res = client.get_request(requests)\n",
    "res.wait(progress=True)\n"
   ]
  }
 ],
 "metadata": {
  "kernelspec": {
   "display_name": "Python 3.10.11 64-bit (microsoft store)",
   "language": "python",
   "name": "python3"
  },
  "language_info": {
   "codemirror_mode": {
    "name": "ipython",
    "version": 3
   },
   "file_extension": ".py",
   "mimetype": "text/x-python",
   "name": "python",
   "nbconvert_exporter": "python",
   "pygments_lexer": "ipython3",
   "version": "3.10.11"
  },
  "orig_nbformat": 4,
  "vscode": {
   "interpreter": {
    "hash": "fae182d100037f77dc4a3badd72692737aaed152a6a3d105564ae7a5731f5095"
   }
  }
 },
 "nbformat": 4,
 "nbformat_minor": 2
}
