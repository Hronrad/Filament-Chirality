{
 "cells": [
  {
   "cell_type": "code",
   "execution_count": 19,
   "metadata": {},
   "outputs": [],
   "source": [
    "import requests\n",
    "import pandas as pd\n",
    "import numpy as np\n",
    "import gzip\n",
    "from io import BytesIO\n"
   ]
  },
  {
   "cell_type": "code",
   "execution_count": 20,
   "metadata": {},
   "outputs": [
    {
     "name": "stdout",
     "output_type": "stream",
     "text": [
      "[Timestamp('2010-05-26 06:18:58'), Timestamp('2010-05-31 15:05:42'), Timestamp('2010-06-01 16:15:39'), Timestamp('2010-06-03 00:00:02'), Timestamp('2010-06-10 19:47:53'), Timestamp('2010-06-16 13:45:00'), Timestamp('2010-06-22 08:36:44'), Timestamp('2010-06-22 20:37:58'), Timestamp('2010-06-22 20:37:58'), Timestamp('2010-06-23 13:48:25'), Timestamp('2010-06-27 01:06:44'), Timestamp('2010-06-27 01:06:44'), Timestamp('2010-06-29 14:31:39'), Timestamp('2010-07-03 03:55:45'), Timestamp('2010-07-03 07:33:04'), Timestamp('2010-07-06 00:22:40'), Timestamp('2010-07-06 08:18:59'), Timestamp('2010-07-08 05:55:17'), Timestamp('2010-07-17 18:17:42'), Timestamp('2010-07-19 01:40:23'), Timestamp('2010-07-20 07:04:07'), Timestamp('2010-07-21 00:00:29'), Timestamp('2010-07-30 06:52:08'), Timestamp('2010-08-01 00:00:31'), Timestamp('2010-08-01 00:00:31'), Timestamp('2010-08-01 10:17:50'), Timestamp('2010-08-01 15:39:39'), Timestamp('2010-08-23 11:46:40'), Timestamp('2010-08-26 12:00:00'), Timestamp('2010-09-04 12:46:18'), Timestamp('2010-09-07 00:00:00'), Timestamp('2010-09-07 12:44:36'), Timestamp('2010-09-10 23:00:00'), Timestamp('2010-09-12 00:00:00'), Timestamp('2010-09-16 07:52:24'), Timestamp('2010-09-18 00:00:30'), Timestamp('2010-09-22 00:00:01'), Timestamp('2010-09-22 00:00:01'), Timestamp('2010-09-28 00:00:00'), Timestamp('2010-09-28 12:27:56'), Timestamp('2010-10-06 00:00:05'), Timestamp('2010-10-10 00:00:12'), Timestamp('2010-10-21 20:06:23'), Timestamp('2010-10-21 20:06:23'), Timestamp('2010-11-01 07:30:12'), Timestamp('2010-11-03 00:00:04'), Timestamp('2010-11-12 23:50:54'), Timestamp('2010-11-18 13:22:54'), Timestamp('2010-11-28 12:40:23'), Timestamp('2010-11-28 23:48:13'), Timestamp('2010-12-06 00:00:01'), Timestamp('2010-12-06 13:10:53'), Timestamp('2010-12-06 21:00:33'), Timestamp('2010-12-11 05:12:20'), Timestamp('2010-12-11 05:12:20'), Timestamp('2010-12-12 00:00:09'), Timestamp('2010-12-14 12:35:52'), Timestamp('2010-12-16 04:43:35'), Timestamp('2010-12-21 00:59:58'), Timestamp('2010-12-24 20:05:58'), Timestamp('2010-12-24 20:05:58'), Timestamp('2010-12-24 20:05:58'), Timestamp('2011-01-02 00:00:43'), Timestamp('2011-01-08 00:00:03'), Timestamp('2011-01-10 00:00:09'), Timestamp('2011-01-14 00:00:12'), Timestamp('2011-01-16 16:06:09'), Timestamp('2011-01-24 22:30:09'), Timestamp('2011-01-26 07:23:51'), Timestamp('2011-01-28 11:42:09'), Timestamp('2011-01-30 08:18:10'), Timestamp('2011-02-02 00:00:04'), Timestamp('2011-02-03 08:58:52'), Timestamp('2011-02-10 15:15:10'), Timestamp('2011-02-11 03:40:58'), Timestamp('2011-02-12 17:37:22'), Timestamp('2011-02-14 00:00:04'), Timestamp('2011-02-15 19:51:46'), Timestamp('2011-02-25 03:30:40'), Timestamp('2011-02-27 07:51:40'), Timestamp('2011-03-01 16:37:16'), Timestamp('2011-03-02 00:00:10'), Timestamp('2011-03-07 19:00:01'), Timestamp('2011-03-09 20:29:50'), Timestamp('2011-03-09 21:13:02'), Timestamp('2011-03-29 18:40:11'), Timestamp('2011-03-31 21:00:29'), Timestamp('2011-04-02 09:00:11'), Timestamp('2011-04-02 19:50:11'), Timestamp('2011-04-08 21:00:30'), Timestamp('2011-04-25 14:30:01'), Timestamp('2011-04-27 00:41:55'), Timestamp('2011-04-27 15:11:55'), Timestamp('2011-05-03 07:55:01'), Timestamp('2011-05-04 15:09:55'), Timestamp('2011-05-11 01:31:57'), Timestamp('2011-05-12 11:14:55'), Timestamp('2011-05-12 11:14:55'), Timestamp('2011-05-13 05:00:01'), Timestamp('2011-05-17 02:19:56'), Timestamp('2011-05-21 06:45:02'), Timestamp('2011-05-23 00:00:12'), Timestamp('2011-05-27 00:49:45'), Timestamp('2011-05-28 14:30:02'), Timestamp('2011-06-05 01:55:56'), Timestamp('2011-06-06 01:40:04'), Timestamp('2011-06-07 05:35:56'), Timestamp('2011-06-09 11:47:56'), Timestamp('2011-06-11 08:29:56'), Timestamp('2011-06-12 10:29:56'), Timestamp('2011-06-12 10:29:56'), Timestamp('2011-06-16 09:56:56'), Timestamp('2011-06-20 21:00:40'), Timestamp('2011-06-23 05:59:56'), Timestamp('2011-07-06 01:39:04'), Timestamp('2011-07-07 09:28:04'), Timestamp('2011-07-08 22:00:04'), Timestamp('2011-07-14 04:10:09'), Timestamp('2011-07-17 01:30:04'), Timestamp('2011-07-17 04:21:04'), Timestamp('2011-07-22 13:45:06'), Timestamp('2011-07-23 20:00:04'), Timestamp('2011-07-25 02:40:04'), Timestamp('2011-07-27 00:10:00'), Timestamp('2011-07-27 15:00:00'), Timestamp('2011-07-28 00:00:04'), Timestamp('2011-08-04 03:30:00'), Timestamp('2011-08-07 00:00:04'), Timestamp('2011-08-10 15:16:04'), Timestamp('2011-08-12 01:32:04'), Timestamp('2011-08-31 03:00:04'), Timestamp('2011-08-31 03:20:04'), Timestamp('2011-09-08 03:14:04'), Timestamp('2011-09-08 15:08:04'), Timestamp('2011-09-09 14:16:04'), Timestamp('2011-09-09 21:00:04'), Timestamp('2011-09-30 02:24:04'), Timestamp('2011-10-01 08:44:04'), Timestamp('2011-10-03 00:20:04'), Timestamp('2011-10-17 08:00:04'), Timestamp('2011-10-18 10:20:04'), Timestamp('2011-10-27 08:00:04'), Timestamp('2011-10-31 13:00:04'), Timestamp('2011-11-02 07:24:04'), Timestamp('2011-11-05 03:15:04'), Timestamp('2011-11-09 12:51:34'), Timestamp('2011-11-14 00:00:04'), Timestamp('2011-11-14 18:10:04'), Timestamp('2011-11-17 11:58:04'), Timestamp('2011-11-17 15:14:04'), Timestamp('2011-11-22 14:40:04'), Timestamp('2011-11-25 21:00:36'), Timestamp('2011-11-26 05:30:00'), Timestamp('2011-11-30 18:48:04'), Timestamp('2011-12-04 00:00:04'), Timestamp('2011-12-04 19:20:04'), Timestamp('2011-12-08 18:00:04'), Timestamp('2011-12-11 05:00:04'), Timestamp('2011-12-11 08:30:00'), Timestamp('2011-12-12 23:30:00'), Timestamp('2011-12-17 00:00:04'), Timestamp('2011-12-24 07:20:04'), Timestamp('2011-12-24 22:15:04'), Timestamp('2011-12-25 05:55:04'), Timestamp('2011-12-25 08:32:34'), Timestamp('2011-12-27 02:00:04'), Timestamp('2011-12-27 05:40:04'), Timestamp('2011-12-27 20:50:04'), Timestamp('2011-12-28 11:00:04'), Timestamp('2011-12-31 20:20:24'), Timestamp('2012-01-05 11:00:04'), Timestamp('2012-01-12 19:20:04'), Timestamp('2012-01-13 00:00:04'), Timestamp('2012-01-13 14:10:04'), Timestamp('2012-01-14 00:00:04'), Timestamp('2012-01-17 22:00:04'), Timestamp('2012-01-19 07:10:04'), Timestamp('2012-01-20 19:45:04'), Timestamp('2012-01-21 07:00:04'), Timestamp('2012-01-22 13:40:12'), Timestamp('2012-01-22 21:00:36'), Timestamp('2012-01-23 00:00:04'), Timestamp('2012-02-05 18:40:04'), Timestamp('2012-02-10 15:24:04'), Timestamp('2012-02-14 13:10:04'), Timestamp('2012-02-23 00:00:04'), Timestamp('2012-02-24 00:00:04'), Timestamp('2012-03-05 09:30:00'), Timestamp('2012-03-08 09:50:24'), Timestamp('2012-03-08 09:50:24'), Timestamp('2012-03-13 23:00:04'), Timestamp('2012-03-16 17:30:00'), Timestamp('2012-03-16 17:30:00'), Timestamp('2012-03-25 00:00:04'), Timestamp('2012-03-26 21:45:04'), Timestamp('2012-03-27 00:50:04'), Timestamp('2012-03-27 03:20:04'), Timestamp('2012-03-29 14:56:04'), Timestamp('2012-03-29 23:04:04'), Timestamp('2012-03-30 22:30:04'), Timestamp('2012-04-05 20:40:04'), Timestamp('2012-04-07 13:50:04'), Timestamp('2012-04-15 07:04:04'), Timestamp('2012-04-15 22:20:04'), Timestamp('2012-04-15 22:20:04'), Timestamp('2012-04-16 06:52:04'), Timestamp('2012-04-16 21:04:04'), Timestamp('2012-04-19 10:40:04'), Timestamp('2012-04-19 10:40:04'), Timestamp('2012-04-19 18:10:04'), Timestamp('2012-04-28 09:00:04'), Timestamp('2012-05-01 08:50:04'), Timestamp('2012-05-02 04:05:04'), Timestamp('2012-05-03 11:45:04'), Timestamp('2012-05-05 13:10:04'), Timestamp('2012-05-05 19:55:04'), Timestamp('2012-05-06 03:00:04'), Timestamp('2012-05-06 05:10:04'), Timestamp('2012-05-10 00:00:04'), Timestamp('2012-05-11 19:04:08'), Timestamp('2012-05-14 01:32:04'), Timestamp('2012-05-18 04:40:12'), Timestamp('2012-05-19 11:50:24'), Timestamp('2012-05-20 09:30:00'), Timestamp('2012-05-22 01:30:00'), Timestamp('2012-05-24 16:04:04'), Timestamp('2012-05-24 22:01:16'), Timestamp('2012-06-03 16:40:04'), Timestamp('2012-06-05 19:00:04'), Timestamp('2012-06-08 13:40:04'), Timestamp('2012-06-09 09:00:04'), Timestamp('2012-06-13 06:40:04'), Timestamp('2012-06-22 10:40:04'), Timestamp('2012-06-22 19:10:04'), Timestamp('2012-06-29 00:30:04'), Timestamp('2012-06-30 16:00:04'), Timestamp('2012-07-02 04:03:04'), Timestamp('2012-07-02 10:06:04'), Timestamp('2012-07-11 07:30:04'), Timestamp('2012-07-11 07:30:04'), Timestamp('2012-07-17 01:00:12'), Timestamp('2012-07-20 00:00:04'), Timestamp('2012-07-20 15:30:04'), Timestamp('2012-07-25 07:20:04'), Timestamp('2012-08-09 19:40:04'), Timestamp('2012-08-15 10:00:04'), Timestamp('2012-08-16 17:25:03'), Timestamp('2012-08-17 20:15:03'), Timestamp('2012-08-22 09:15:35'), Timestamp('2012-08-23 04:30:35'), Timestamp('2012-08-23 15:00:03'), Timestamp('2012-08-31 17:00:03'), Timestamp('2012-09-09 17:26:03'), Timestamp('2012-09-16 21:00:03'), Timestamp('2012-09-21 11:50:23'), Timestamp('2012-09-26 08:08:03'), Timestamp('2012-09-27 21:28:03'), Timestamp('2012-10-02 07:00:03'), Timestamp('2012-10-06 12:00:03'), Timestamp('2012-10-15 13:05:03'), Timestamp('2012-10-30 04:00:03'), Timestamp('2012-11-08 14:10:03'), Timestamp('2012-11-12 03:03:03'), Timestamp('2012-11-16 05:00:03'), Timestamp('2012-11-20 07:33:03'), Timestamp('2012-11-21 16:40:03'), Timestamp('2012-11-23 09:32:03'), Timestamp('2012-11-25 00:20:03'), Timestamp('2012-11-27 00:00:03'), Timestamp('2012-11-29 09:59:27'), Timestamp('2012-12-05 22:30:03'), Timestamp('2012-12-09 16:14:03'), Timestamp('2012-12-10 10:00:03'), Timestamp('2012-12-11 14:00:03'), Timestamp('2012-12-11 14:00:03'), Timestamp('2012-12-13 22:00:03'), Timestamp('2012-12-14 02:30:03'), Timestamp('2012-12-17 02:10:03'), Timestamp('2012-12-20 00:54:03'), Timestamp('2012-12-26 16:50:23'), Timestamp('2013-01-08 16:36:03'), Timestamp('2013-01-15 05:00:03'), Timestamp('2013-01-19 09:45:03'), Timestamp('2013-01-23 11:00:03'), Timestamp('2013-01-25 14:04:03'), Timestamp('2013-01-31 03:00:05'), Timestamp('2013-01-31 11:00:05'), Timestamp('2013-02-03 05:00:03'), Timestamp('2013-02-03 08:10:03'), Timestamp('2013-02-05 09:04:03'), Timestamp('2013-02-06 00:00:03'), Timestamp('2013-02-11 18:50:03'), Timestamp('2013-02-12 20:20:03'), Timestamp('2013-02-12 20:20:03'), Timestamp('2013-02-22 04:00:03'), Timestamp('2013-03-02 12:00:03'), Timestamp('2013-03-04 21:27:03'), Timestamp('2013-03-05 19:54:03'), Timestamp('2013-03-12 10:07:33'), Timestamp('2013-03-16 03:32:03'), Timestamp('2013-03-16 11:58:03'), Timestamp('2013-03-17 14:08:03'), Timestamp('2013-03-19 13:20:23'), Timestamp('2013-03-19 23:30:35'), Timestamp('2013-03-21 02:40:11'), Timestamp('2013-03-24 16:08:03'), Timestamp('2013-03-26 06:00:03'), Timestamp('2013-03-31 21:05:03'), Timestamp('2013-04-08 12:50:03'), Timestamp('2013-04-10 14:50:03'), Timestamp('2013-04-12 00:00:03'), Timestamp('2013-04-26 10:25:03'), Timestamp('2013-04-29 01:52:03'), Timestamp('2013-04-29 19:04:03'), Timestamp('2013-05-04 02:00:35'), Timestamp('2013-05-06 07:30:35'), Timestamp('2013-05-11 20:00:03'), Timestamp('2013-05-14 04:40:03'), Timestamp('2013-05-15 06:10:03'), Timestamp('2013-05-21 05:50:03'), Timestamp('2013-05-21 09:40:03'), Timestamp('2013-05-22 08:00:35'), Timestamp('2013-05-24 03:30:35'), Timestamp('2013-05-25 12:50:23'), Timestamp('2013-05-29 16:38:03'), Timestamp('2013-05-31 11:32:03'), Timestamp('2013-06-02 15:00:03'), Timestamp('2013-06-11 20:14:03'), Timestamp('2013-06-12 14:26:03'), Timestamp('2013-06-13 20:20:03'), Timestamp('2013-06-22 08:00:03'), Timestamp('2013-06-30 00:00:03'), Timestamp('2013-06-30 18:00:03'), Timestamp('2013-07-02 00:00:35'), Timestamp('2013-07-03 05:33:03'), Timestamp('2013-07-13 05:40:03'), Timestamp('2013-07-18 16:30:03'), Timestamp('2013-07-26 21:20:23'), Timestamp('2013-08-02 12:18:03'), Timestamp('2013-08-04 06:15:35'), Timestamp('2013-08-04 14:30:35'), Timestamp('2013-08-06 01:16:03'), Timestamp('2013-08-07 11:28:03'), Timestamp('2013-08-10 06:48:03'), Timestamp('2013-08-12 19:40:11'), Timestamp('2013-08-14 18:30:35'), Timestamp('2013-08-16 18:00:03'), Timestamp('2013-08-17 10:00:03'), Timestamp('2013-08-17 16:00:03'), Timestamp('2013-08-18 13:40:03'), Timestamp('2013-08-20 03:44:03'), Timestamp('2013-08-21 00:16:03'), Timestamp('2013-08-29 00:00:03'), Timestamp('2013-08-31 17:20:03'), Timestamp('2013-09-01 19:45:03'), Timestamp('2013-09-10 10:44:03'), Timestamp('2013-09-11 02:30:35'), Timestamp('2013-09-19 02:10:03'), Timestamp('2013-09-20 03:05:23'), Timestamp('2013-09-20 18:40:11'), Timestamp('2013-09-21 01:00:03'), Timestamp('2013-09-21 07:15:35'), Timestamp('2013-09-23 07:00:03'), Timestamp('2013-09-24 03:04:03'), Timestamp('2013-09-24 18:36:03'), Timestamp('2013-09-29 20:30:03'), Timestamp('2013-10-02 23:10:03'), Timestamp('2013-10-18 00:00:03'), Timestamp('2013-10-19 11:38:03'), Timestamp('2013-10-25 01:32:03'), Timestamp('2013-10-26 09:16:03'), Timestamp('2013-10-28 10:28:03'), Timestamp('2013-10-28 13:14:03'), Timestamp('2013-10-30 15:00:03'), Timestamp('2013-11-02 19:10:11'), Timestamp('2013-11-04 18:20:23'), Timestamp('2013-11-17 01:00:03'), Timestamp('2013-11-23 23:25:11'), Timestamp('2013-12-04 20:00:03'), Timestamp('2013-12-05 20:00:03'), Timestamp('2013-12-09 10:32:03'), Timestamp('2013-12-11 05:30:03'), Timestamp('2013-12-13 06:20:03'), Timestamp('2013-12-20 06:30:35'), Timestamp('2014-01-01 18:00:03'), Timestamp('2014-01-01 18:20:23'), Timestamp('2014-01-02 03:32:03'), Timestamp('2014-01-03 15:24:03'), Timestamp('2014-01-05 02:20:03'), Timestamp('2014-01-13 04:30:03'), Timestamp('2014-01-29 00:00:03'), Timestamp('2014-01-29 00:00:03'), Timestamp('2014-01-30 13:14:03'), Timestamp('2014-02-09 21:00:35'), Timestamp('2014-02-11 00:28:35'), Timestamp('2014-02-11 06:50:26'), Timestamp('2014-02-15 20:50:23'), Timestamp('2014-02-17 02:30:35'), Timestamp('2014-02-18 00:00:03'), Timestamp('2014-02-18 21:30:03'), Timestamp('2014-02-19 14:00:03'), Timestamp('2014-02-19 20:00:03'), Timestamp('2014-03-04 20:35:23'), Timestamp('2014-03-06 09:10:03'), Timestamp('2014-03-10 15:36:03'), Timestamp('2014-03-10 15:36:03'), Timestamp('2014-03-16 01:48:03'), Timestamp('2014-03-17 11:40:11'), Timestamp('2014-03-20 05:30:03'), Timestamp('2014-03-21 03:00:03'), Timestamp('2014-03-27 12:30:35'), Timestamp('2014-03-28 01:20:23'), Timestamp('2014-03-28 17:20:23'), Timestamp('2014-03-29 01:20:03'), Timestamp('2014-03-30 10:24:03'), Timestamp('2014-04-01 11:42:03'), Timestamp('2014-04-02 12:38:03'), Timestamp('2014-04-03 18:00:03'), Timestamp('2014-04-04 13:30:03'), Timestamp('2014-04-05 19:40:03'), Timestamp('2014-04-09 23:30:03'), Timestamp('2014-04-15 17:20:03'), Timestamp('2014-04-15 17:20:03'), Timestamp('2014-04-18 04:04:03'), Timestamp('2014-04-18 04:04:03'), Timestamp('2014-04-18 07:04:03'), Timestamp('2014-04-21 00:15:35'), Timestamp('2014-04-22 08:00:03'), Timestamp('2014-04-22 22:24:03'), Timestamp('2014-04-28 01:04:03'), Timestamp('2014-04-29 04:36:03'), Timestamp('2014-04-30 07:12:03'), Timestamp('2014-04-30 23:00:03'), Timestamp('2014-05-01 07:30:03'), Timestamp('2014-05-03 07:30:03'), Timestamp('2014-05-10 22:50:03'), Timestamp('2014-05-16 04:02:03'), Timestamp('2014-05-19 05:40:11'), Timestamp('2014-05-20 03:50:23'), Timestamp('2014-05-21 11:30:35'), Timestamp('2014-05-26 09:35:03'), Timestamp('2014-06-04 10:16:03'), Timestamp('2014-06-13 00:00:03'), Timestamp('2014-06-13 17:32:03'), Timestamp('2014-06-15 00:28:03'), Timestamp('2014-06-15 00:28:03'), Timestamp('2014-06-15 00:28:03'), Timestamp('2014-06-15 00:28:03'), Timestamp('2014-06-15 23:24:03'), Timestamp('2014-06-16 08:12:03'), Timestamp('2014-06-19 13:20:03'), Timestamp('2014-06-21 03:00:03'), Timestamp('2014-07-02 16:45:35'), Timestamp('2014-07-05 21:50:23'), Timestamp('2014-07-08 16:00:03'), Timestamp('2014-07-09 17:06:03'), Timestamp('2014-07-18 00:00:03'), Timestamp('2014-07-18 06:20:03'), Timestamp('2014-07-28 02:50:35'), Timestamp('2014-07-29 09:40:35'), Timestamp('2014-07-30 02:50:03'), Timestamp('2014-07-30 16:40:03'), Timestamp('2014-08-03 16:56:03'), Timestamp('2014-08-15 15:20:23'), Timestamp('2014-09-02 11:10:03'), Timestamp('2014-09-12 23:15:35'), Timestamp('2014-09-19 08:10:11'), Timestamp('2014-09-19 17:30:35'), Timestamp('2014-09-20 04:25:11'), Timestamp('2014-09-20 23:20:23'), Timestamp('2014-09-21 11:00:03'), Timestamp('2014-09-25 19:04:03'), Timestamp('2014-10-05 14:20:23'), Timestamp('2014-10-06 15:40:11'), Timestamp('2014-10-10 15:40:07'), Timestamp('2014-10-14 17:20:03'), Timestamp('2014-10-18 06:12:03'), Timestamp('2014-11-08 14:56:03'), Timestamp('2014-11-09 06:12:03'), Timestamp('2014-11-18 00:44:03'), Timestamp('2014-11-27 15:28:03'), Timestamp('2014-11-27 15:28:03'), Timestamp('2014-11-28 03:44:03'), Timestamp('2014-12-11 23:20:03'), Timestamp('2014-12-12 02:50:03'), Timestamp('2014-12-18 07:40:03'), Timestamp('2014-12-20 00:10:03'), Timestamp('2014-12-24 02:21:35'), Timestamp('2014-12-28 00:45:35'), Timestamp('2014-12-28 10:45:35'), Timestamp('2014-12-29 08:30:35'), Timestamp('2014-12-29 15:20:23'), Timestamp('2014-12-31 21:00:35'), Timestamp('2015-01-12 13:52:03'), Timestamp('2015-01-15 01:00:03'), Timestamp('2015-01-15 12:52:03'), Timestamp('2015-01-21 02:45:35'), Timestamp('2015-02-04 18:00:03'), Timestamp('2015-02-12 00:00:03'), Timestamp('2015-02-21 17:40:11'), Timestamp('2015-02-27 22:40:11'), Timestamp('2015-02-28 02:10:11'), Timestamp('2015-02-28 13:30:35'), Timestamp('2015-03-15 00:30:35'), Timestamp('2015-03-16 10:10:11'), Timestamp('2015-03-16 14:10:07'), Timestamp('2015-04-02 12:00:03'), Timestamp('2015-04-04 21:25:03'), Timestamp('2015-04-06 18:15:35'), Timestamp('2015-04-12 21:00:35'), Timestamp('2015-04-12 22:15:35'), Timestamp('2015-04-16 04:36:03'), Timestamp('2015-04-17 00:00:03'), Timestamp('2015-04-18 00:00:03'), Timestamp('2015-04-25 02:00:03'), Timestamp('2015-04-26 18:16:03'), Timestamp('2015-04-26 18:16:03'), Timestamp('2015-04-27 22:00:03'), Timestamp('2015-04-27 22:00:03'), Timestamp('2015-04-27 22:00:03'), Timestamp('2015-04-27 22:00:03'), Timestamp('2015-04-27 22:00:03'), Timestamp('2015-05-02 14:30:35'), Timestamp('2015-05-04 00:00:03'), Timestamp('2015-05-05 20:25:03'), Timestamp('2015-05-06 23:12:03'), Timestamp('2015-05-11 03:30:03'), Timestamp('2015-05-13 17:40:03'), Timestamp('2015-05-15 18:10:03'), Timestamp('2015-05-16 09:00:03'), Timestamp('2015-06-05 00:50:23'), Timestamp('2015-06-14 04:48:03'), Timestamp('2015-06-22 16:00:03'), Timestamp('2015-07-02 20:20:06'), Timestamp('2015-07-04 10:00:06'), Timestamp('2015-07-07 16:20:06'), Timestamp('2015-07-08 07:04:06'), Timestamp('2015-07-13 08:24:06'), Timestamp('2015-07-18 22:15:34'), Timestamp('2015-07-19 04:00:06'), Timestamp('2015-08-05 06:00:06'), Timestamp('2015-08-07 17:36:06'), Timestamp('2015-08-07 17:36:06'), Timestamp('2015-08-08 03:40:06'), Timestamp('2015-08-12 11:10:06'), Timestamp('2015-08-14 07:00:06'), Timestamp('2015-08-14 16:40:10'), Timestamp('2015-08-23 03:40:06'), Timestamp('2015-08-26 18:50:22'), Timestamp('2015-09-20 05:12:06'), Timestamp('2015-09-23 16:45:34'), Timestamp('2015-09-25 14:00:06'), Timestamp('2015-09-27 14:15:34'), Timestamp('2015-09-27 14:15:34'), Timestamp('2015-09-28 05:40:10'), Timestamp('2015-10-07 04:00:06'), Timestamp('2015-10-14 05:50:06'), Timestamp('2015-10-14 18:40:06'), Timestamp('2015-10-20 16:00:06'), Timestamp('2015-10-26 09:48:06'), Timestamp('2015-10-29 06:56:06'), Timestamp('2015-10-29 12:24:06'), Timestamp('2015-11-15 21:00:34'), Timestamp('2015-11-15 21:00:34'), Timestamp('2015-11-18 17:56:06'), Timestamp('2015-11-26 19:50:06'), Timestamp('2015-12-09 19:48:06'), Timestamp('2015-12-11 16:40:10'), Timestamp('2015-12-15 20:00:06'), Timestamp('2015-12-19 03:30:34'), Timestamp('2015-12-20 14:48:06')]\n"
     ]
    }
   ],
   "source": [
    "df = pd.read_excel('eruptedFilamentsList.xlsx', sheet_name='Sheet1')  \n",
    "SOLstr = df.iloc[1::2, 0].tolist()\n",
    "# 提取时间部分并转换为 datetime 类型\n",
    "time_ls = [pd.to_datetime(s[3:22], format='%Y-%m-%dT%H:%M:%S') for s in SOLstr]\n",
    "print(time_ls)"
   ]
  },
  {
   "cell_type": "code",
   "execution_count": 52,
   "metadata": {},
   "outputs": [],
   "source": [
    "from datetime import timedelta\n",
    "date_ls = [t.strftime('%Y%m%d') for t in time_ls]\n",
    "date_ls = list(set(date_ls))\n",
    "date_extend = []\n",
    "for d in date_ls:\n",
    "    date = pd.to_datetime(d, format='%Y%m%d')\n",
    "    pre = date - timedelta(days=1)\n",
    "    nxt = date + timedelta(days=1)\n",
    "    date_extend.append(pre)\n",
    "    date_extend.append(date)\n",
    "    date_extend.append(nxt)\n",
    "date_extend = list(set(date_extend))\n",
    "date_extend.sort()\n",
    "date_ls_extend = [d.strftime('%Y%m%d') for d in date_extend]"
   ]
  },
  {
   "cell_type": "code",
   "execution_count": 53,
   "metadata": {},
   "outputs": [],
   "source": [
    "from bs4 import BeautifulSoup\n",
    "\n",
    "linkls = []\n",
    "cnt = 0\n",
    "for date in date_ls_extend:\n",
    "    # cnt += 1\n",
    "    # if cnt > 10:\n",
    "    #     break\n",
    "    year = date[:4]\n",
    "    url = f\"http://cesar.kso.ac.at/halpha3a/{year}/{date}/processed/\"\n",
    "    # 使用requests库获取网页内容\n",
    "    response = requests.get(url)\n",
    "\n",
    "    # 确保请求成功\n",
    "    #response.raise_for_status()\n",
    "\n",
    "    # 使用BeautifulSoup解析HTML\n",
    "    soup = BeautifulSoup(response.text, 'html.parser')\n",
    "\n",
    "    # 提取所有的<a>标签\n",
    "    links = soup.find_all('a')\n",
    "\n",
    "    # 打印每个链接的href属性\n",
    "    for link in links[5:]:\n",
    "        lkdate = link.get('href')[14:22]+link.get('href')[23:29]\n",
    "        linkls.append(lkdate)\n",
    "\n",
    "with open('KSOlink.txt', 'w') as f:\n",
    "    for item in linkls:\n",
    "        f.write(\"%s\\n\" % item)"
   ]
  },
  {
   "cell_type": "code",
   "execution_count": 54,
   "metadata": {},
   "outputs": [],
   "source": [
    "# 读入列表\n",
    "lkdate = []\n",
    "\n",
    "with open('KSOlink.txt', 'r') as f:\n",
    "    for line in f:\n",
    "        line = line.rstrip('\\n')\n",
    "        lktime = pd.to_datetime(line, format='%Y%m%d%H%M%S')\n",
    "        lkdate.append(lktime)\n"
   ]
  },
  {
   "cell_type": "code",
   "execution_count": 55,
   "metadata": {},
   "outputs": [],
   "source": [
    "def find_matches(time_ls, lkdate, delta):\n",
    "    result = {}\n",
    "    i = 0\n",
    "    j = 0\n",
    "    len_time_ls = len(time_ls)\n",
    "    len_lkdate = len(lkdate)\n",
    "    while i < len_time_ls:\n",
    "        matches = []\n",
    "        while j < len_lkdate and lkdate[j] < time_ls[i] - delta:\n",
    "            j += 1\n",
    "        while j < len_lkdate and lkdate[j] <= time_ls[i] + delta:\n",
    "            matches.append(lkdate[j])\n",
    "            j += 1\n",
    "        result[time_ls[i]] = matches\n",
    "        i += 1\n",
    "    return result\n"
   ]
  },
  {
   "cell_type": "code",
   "execution_count": 60,
   "metadata": {},
   "outputs": [
    {
     "name": "stdout",
     "output_type": "stream",
     "text": [
      "0.727 1:00:00\n",
      "0.664 2:00:00\n",
      "0.606 3:00:00\n",
      "0.541 4:00:00\n",
      "0.489 5:00:00\n",
      "0.431 6:00:00\n",
      "0.370 7:00:00\n",
      "0.315 8:00:00\n",
      "0.284 9:00:00\n",
      "0.268 10:00:00\n",
      "0.264 11:00:00\n",
      "0.249 12:00:00\n",
      "0.247 13:00:00\n",
      "0.249 14:00:00\n",
      "0.245 15:00:00\n",
      "0.240 16:00:00\n",
      "0.243 17:00:00\n",
      "0.236 18:00:00\n",
      "0.235 19:00:00\n",
      "0.228 20:00:00\n",
      "0.214 21:00:00\n",
      "0.219 22:00:00\n",
      "0.214 23:00:00\n",
      "0.214 1 day, 0:00:00\n"
     ]
    }
   ],
   "source": [
    "# 不同间隔的数据缺失率\n",
    "delta_ls = [timedelta(hours=n) for n in range(1, 25)]\n",
    "for delta in delta_ls:\n",
    "    result = find_matches(time_ls, lkdate, delta)\n",
    "    zeros = 0\n",
    "    zero_ls = []\n",
    "    for item in result:\n",
    "        res_ls = result[item]\n",
    "        num = len(res_ls)\n",
    "        if num == 0:\n",
    "            zeros += 1\n",
    "            zero_ls.append(item)\n",
    "    print(f'{zeros/len(time_ls):.3f}', delta)\n",
    "    \n"
   ]
  },
  {
   "cell_type": "code",
   "execution_count": 70,
   "metadata": {},
   "outputs": [],
   "source": [
    "import os\n",
    "def download(time, srctime):\n",
    "    timestr = time.strftime('%Y%m%d%H%M%S')\n",
    "    srcstr = srctime.strftime('%Y%m%d%H%M%S')\n",
    "    #格式如 http://cesar.kso.ac.at/halpha3a/2017/20170106/processed/kanz_halph_fi_20170106_080600.fts.gz\n",
    "    ftsfile = f'kanz_halph_fi_{timestr[:8]}_{timestr[-6:]}.fts'\n",
    "\n",
    "    url = f\"http://cesar.kso.ac.at/halpha3a/{timestr[:4]}/{timestr[:8]}/processed/{ftsfile}.gz\"\n",
    "\n",
    "    path = f'./{srcstr}/'\n",
    "\n",
    "    filepath = f'{path}{ftsfile}'\n",
    "\n",
    "    os.makedirs(path, exist_ok=True)\n",
    "\n",
    "    response = requests.get(url)\n",
    "    \n",
    "    with gzip.GzipFile(fileobj=BytesIO(response.content)) as gz:\n",
    "        with open(filepath, 'wb') as out_f:\n",
    "            out_f.write(gz.read())\n",
    "\n",
    "def donwload_batch(list, srctime):\n",
    "    for time in list:\n",
    "        download(time, srctime)"
   ]
  },
  {
   "cell_type": "code",
   "execution_count": 71,
   "metadata": {},
   "outputs": [],
   "source": [
    "\n",
    "delta = timedelta(hours=12)\n",
    "result = find_matches(time_ls, lkdate, delta)\n",
    "for item in result:\n",
    "    res_ls = result[item]\n",
    "    num = len(res_ls)\n",
    "    if num == 0:\n",
    "        continue\n",
    "    if num <= 10:\n",
    "        donwload_batch(res_ls, item)\n",
    "    else:\n",
    "        near_ls = sorted(res_ls, key=lambda x: abs(x - item))\n",
    "        donwload_batch(near_ls[:10], item)\n",
    "        \n"
   ]
  },
  {
   "cell_type": "code",
   "execution_count": 72,
   "metadata": {},
   "outputs": [
    {
     "name": "stdout",
     "output_type": "stream",
     "text": [
      "[Timestamp('2010-05-26 06:18:58'), Timestamp('2010-05-31 15:05:42'), Timestamp('2010-06-01 16:15:39'), Timestamp('2010-06-03 00:00:02'), Timestamp('2010-06-10 19:47:53'), Timestamp('2010-06-22 08:36:44'), Timestamp('2010-06-23 13:48:25'), Timestamp('2010-06-29 14:31:39'), Timestamp('2010-07-03 03:55:45'), Timestamp('2010-07-06 00:22:40'), Timestamp('2010-07-08 05:55:17'), Timestamp('2010-07-17 18:17:42'), Timestamp('2010-07-19 01:40:23'), Timestamp('2010-07-20 07:04:07'), Timestamp('2010-07-21 00:00:29'), Timestamp('2010-08-01 10:17:50'), Timestamp('2010-08-23 11:46:40'), Timestamp('2010-08-26 12:00:00'), Timestamp('2010-09-04 12:46:18'), Timestamp('2010-09-07 00:00:00'), Timestamp('2010-09-10 23:00:00'), Timestamp('2010-09-12 00:00:00'), Timestamp('2010-09-28 00:00:00'), Timestamp('2010-10-10 00:00:12'), Timestamp('2010-11-12 23:50:54'), Timestamp('2010-11-18 13:22:54'), Timestamp('2010-12-06 00:00:01'), Timestamp('2010-12-12 00:00:09'), Timestamp('2010-12-14 12:35:52'), Timestamp('2010-12-16 04:43:35'), Timestamp('2010-12-21 00:59:58'), Timestamp('2011-01-02 00:00:43'), Timestamp('2011-01-08 00:00:03'), Timestamp('2011-01-10 00:00:09'), Timestamp('2011-01-14 00:00:12'), Timestamp('2011-01-16 16:06:09'), Timestamp('2011-01-24 22:30:09'), Timestamp('2011-01-26 07:23:51'), Timestamp('2011-01-28 11:42:09'), Timestamp('2011-01-30 08:18:10'), Timestamp('2011-02-02 00:00:04'), Timestamp('2011-02-03 08:58:52'), Timestamp('2011-02-10 15:15:10'), Timestamp('2011-02-11 03:40:58'), Timestamp('2011-02-12 17:37:22'), Timestamp('2011-02-14 00:00:04'), Timestamp('2011-02-15 19:51:46'), Timestamp('2011-02-25 03:30:40'), Timestamp('2011-02-27 07:51:40'), Timestamp('2011-03-01 16:37:16'), Timestamp('2011-03-07 19:00:01'), Timestamp('2011-03-09 20:29:50'), Timestamp('2011-03-09 21:13:02'), Timestamp('2011-03-29 18:40:11'), Timestamp('2011-03-31 21:00:29'), Timestamp('2011-04-02 09:00:11'), Timestamp('2011-04-02 19:50:11'), Timestamp('2011-04-08 21:00:30'), Timestamp('2011-04-25 14:30:01'), Timestamp('2011-04-27 00:41:55'), Timestamp('2011-04-27 15:11:55'), Timestamp('2011-05-03 07:55:01'), Timestamp('2011-05-04 15:09:55'), Timestamp('2011-05-11 01:31:57'), Timestamp('2011-05-13 05:00:01'), Timestamp('2011-05-17 02:19:56'), Timestamp('2011-05-21 06:45:02'), Timestamp('2011-05-23 00:00:12'), Timestamp('2011-05-27 00:49:45'), Timestamp('2011-06-05 01:55:56'), Timestamp('2011-06-06 01:40:04'), Timestamp('2011-06-07 05:35:56'), Timestamp('2011-06-11 08:29:56'), Timestamp('2011-06-16 09:56:56'), Timestamp('2011-06-20 21:00:40'), Timestamp('2011-06-23 05:59:56'), Timestamp('2011-07-06 01:39:04'), Timestamp('2011-07-07 09:28:04'), Timestamp('2011-07-08 22:00:04'), Timestamp('2011-07-14 04:10:09'), Timestamp('2011-07-17 01:30:04'), Timestamp('2011-07-17 04:21:04'), Timestamp('2011-07-22 13:45:06'), Timestamp('2011-07-25 02:40:04'), Timestamp('2011-07-27 00:10:00'), Timestamp('2011-07-27 15:00:00'), Timestamp('2011-08-04 03:30:00'), Timestamp('2011-08-07 00:00:04'), Timestamp('2011-08-10 15:16:04'), Timestamp('2011-08-12 01:32:04'), Timestamp('2011-08-31 03:00:04'), Timestamp('2011-09-09 14:16:04'), Timestamp('2011-09-09 21:00:04'), Timestamp('2011-09-30 02:24:04'), Timestamp('2011-10-01 08:44:04'), Timestamp('2011-10-03 00:20:04'), Timestamp('2011-10-17 08:00:04'), Timestamp('2011-10-18 10:20:04'), Timestamp('2011-10-27 08:00:04'), Timestamp('2011-10-31 13:00:04'), Timestamp('2011-11-02 07:24:04'), Timestamp('2011-11-05 03:15:04'), Timestamp('2011-11-09 12:51:34'), Timestamp('2011-11-14 00:00:04'), Timestamp('2011-11-14 18:10:04'), Timestamp('2011-11-17 11:58:04'), Timestamp('2011-11-22 14:40:04'), Timestamp('2011-11-25 21:00:36'), Timestamp('2011-11-26 05:30:00'), Timestamp('2011-11-30 18:48:04'), Timestamp('2011-12-04 00:00:04'), Timestamp('2011-12-04 19:20:04'), Timestamp('2011-12-08 18:00:04'), Timestamp('2011-12-12 23:30:00'), Timestamp('2011-12-24 07:20:04'), Timestamp('2011-12-24 22:15:04'), Timestamp('2011-12-25 05:55:04'), Timestamp('2011-12-27 02:00:04'), Timestamp('2011-12-27 20:50:04'), Timestamp('2011-12-28 11:00:04'), Timestamp('2011-12-31 20:20:24'), Timestamp('2012-01-05 11:00:04'), Timestamp('2012-01-12 19:20:04'), Timestamp('2012-01-13 00:00:04'), Timestamp('2012-01-13 14:10:04'), Timestamp('2012-01-14 00:00:04'), Timestamp('2012-01-17 22:00:04'), Timestamp('2012-01-19 07:10:04'), Timestamp('2012-01-20 19:45:04'), Timestamp('2012-01-21 07:00:04'), Timestamp('2012-01-22 13:40:12'), Timestamp('2012-01-23 00:00:04'), Timestamp('2012-02-10 15:24:04'), Timestamp('2012-02-14 13:10:04'), Timestamp('2012-02-23 00:00:04'), Timestamp('2012-02-24 00:00:04'), Timestamp('2012-03-13 23:00:04'), Timestamp('2012-03-25 00:00:04'), Timestamp('2012-03-26 21:45:04'), Timestamp('2012-03-27 00:50:04'), Timestamp('2012-03-27 03:20:04'), Timestamp('2012-03-29 14:56:04'), Timestamp('2012-03-29 23:04:04'), Timestamp('2012-03-30 22:30:04'), Timestamp('2012-04-16 21:04:04'), Timestamp('2012-04-28 09:00:04'), Timestamp('2012-05-01 08:50:04'), Timestamp('2012-05-02 04:05:04'), Timestamp('2012-05-03 11:45:04'), Timestamp('2012-05-05 13:10:04'), Timestamp('2012-05-05 19:55:04'), Timestamp('2012-05-10 00:00:04'), Timestamp('2012-05-11 19:04:08'), Timestamp('2012-05-14 01:32:04'), Timestamp('2012-05-18 04:40:12'), Timestamp('2012-05-19 11:50:24'), Timestamp('2012-05-20 09:30:00'), Timestamp('2012-05-22 01:30:00'), Timestamp('2012-05-24 16:04:04'), Timestamp('2012-05-24 22:01:16'), Timestamp('2012-06-03 16:40:04'), Timestamp('2012-06-05 19:00:04'), Timestamp('2012-06-08 13:40:04'), Timestamp('2012-06-09 09:00:04'), Timestamp('2012-06-13 06:40:04'), Timestamp('2012-06-22 10:40:04'), Timestamp('2012-06-29 00:30:04'), Timestamp('2012-06-30 16:00:04'), Timestamp('2012-07-02 04:03:04'), Timestamp('2012-07-17 01:00:12'), Timestamp('2012-07-20 00:00:04'), Timestamp('2012-07-20 15:30:04'), Timestamp('2012-07-25 07:20:04'), Timestamp('2012-08-09 19:40:04'), Timestamp('2012-08-15 10:00:04'), Timestamp('2012-08-16 17:25:03'), Timestamp('2012-08-17 20:15:03'), Timestamp('2012-08-22 09:15:35'), Timestamp('2012-08-23 04:30:35'), Timestamp('2012-09-09 17:26:03'), Timestamp('2012-09-16 21:00:03'), Timestamp('2012-09-21 11:50:23'), Timestamp('2012-09-26 08:08:03'), Timestamp('2012-09-27 21:28:03'), Timestamp('2012-10-06 12:00:03'), Timestamp('2012-10-30 04:00:03'), Timestamp('2012-11-08 14:10:03'), Timestamp('2012-11-16 05:00:03'), Timestamp('2012-11-23 09:32:03'), Timestamp('2012-11-25 00:20:03'), Timestamp('2012-12-05 22:30:03'), Timestamp('2012-12-09 16:14:03'), Timestamp('2012-12-10 10:00:03'), Timestamp('2012-12-13 22:00:03'), Timestamp('2012-12-14 02:30:03'), Timestamp('2012-12-17 02:10:03'), Timestamp('2012-12-20 00:54:03'), Timestamp('2013-01-08 16:36:03'), Timestamp('2013-01-19 09:45:03'), Timestamp('2013-01-23 11:00:03'), Timestamp('2013-01-31 03:00:05'), Timestamp('2013-02-03 05:00:03'), Timestamp('2013-02-11 18:50:03'), Timestamp('2013-02-22 04:00:03'), Timestamp('2013-03-02 12:00:03'), Timestamp('2013-03-04 21:27:03'), Timestamp('2013-03-05 19:54:03'), Timestamp('2013-03-12 10:07:33'), Timestamp('2013-03-16 03:32:03'), Timestamp('2013-03-16 11:58:03'), Timestamp('2013-03-17 14:08:03'), Timestamp('2013-03-19 13:20:23'), Timestamp('2013-03-19 23:30:35'), Timestamp('2013-03-21 02:40:11'), Timestamp('2013-04-08 12:50:03'), Timestamp('2013-04-10 14:50:03'), Timestamp('2013-04-12 00:00:03'), Timestamp('2013-04-26 10:25:03'), Timestamp('2013-04-29 01:52:03'), Timestamp('2013-04-29 19:04:03'), Timestamp('2013-05-04 02:00:35'), Timestamp('2013-05-14 04:40:03'), Timestamp('2013-05-15 06:10:03'), Timestamp('2013-05-21 05:50:03'), Timestamp('2013-05-22 08:00:35'), Timestamp('2013-05-29 16:38:03'), Timestamp('2013-06-02 15:00:03'), Timestamp('2013-06-11 20:14:03'), Timestamp('2013-06-12 14:26:03'), Timestamp('2013-06-13 20:20:03'), Timestamp('2013-06-22 08:00:03'), Timestamp('2013-06-30 00:00:03'), Timestamp('2013-06-30 18:00:03'), Timestamp('2013-07-02 00:00:35'), Timestamp('2013-07-03 05:33:03'), Timestamp('2013-07-13 05:40:03'), Timestamp('2013-07-18 16:30:03'), Timestamp('2013-07-26 21:20:23'), Timestamp('2013-08-02 12:18:03'), Timestamp('2013-08-04 06:15:35'), Timestamp('2013-08-06 01:16:03'), Timestamp('2013-08-07 11:28:03'), Timestamp('2013-08-10 06:48:03'), Timestamp('2013-08-12 19:40:11'), Timestamp('2013-08-14 18:30:35'), Timestamp('2013-08-16 18:00:03'), Timestamp('2013-08-17 10:00:03'), Timestamp('2013-08-18 13:40:03'), Timestamp('2013-08-20 03:44:03'), Timestamp('2013-08-21 00:16:03'), Timestamp('2013-08-29 00:00:03'), Timestamp('2013-08-31 17:20:03'), Timestamp('2013-09-01 19:45:03'), Timestamp('2013-09-19 02:10:03'), Timestamp('2013-09-20 03:05:23'), Timestamp('2013-09-20 18:40:11'), Timestamp('2013-09-21 01:00:03'), Timestamp('2013-09-21 07:15:35'), Timestamp('2013-09-23 07:00:03'), Timestamp('2013-09-24 03:04:03'), Timestamp('2013-09-24 18:36:03'), Timestamp('2013-10-18 00:00:03'), Timestamp('2013-10-19 11:38:03'), Timestamp('2013-10-25 01:32:03'), Timestamp('2013-10-26 09:16:03'), Timestamp('2013-10-28 10:28:03'), Timestamp('2013-11-17 01:00:03'), Timestamp('2013-12-04 20:00:03'), Timestamp('2013-12-05 20:00:03'), Timestamp('2013-12-09 10:32:03'), Timestamp('2013-12-11 05:30:03'), Timestamp('2013-12-13 06:20:03'), Timestamp('2013-12-20 06:30:35'), Timestamp('2014-01-01 18:00:03'), Timestamp('2014-01-02 03:32:03'), Timestamp('2014-01-03 15:24:03'), Timestamp('2014-01-13 04:30:03'), Timestamp('2014-02-15 20:50:23'), Timestamp('2014-02-18 00:00:03'), Timestamp('2014-02-18 21:30:03'), Timestamp('2014-03-04 20:35:23'), Timestamp('2014-03-06 09:10:03'), Timestamp('2014-03-16 01:48:03'), Timestamp('2014-03-17 11:40:11'), Timestamp('2014-03-20 05:30:03'), Timestamp('2014-03-21 03:00:03'), Timestamp('2014-03-28 01:20:23'), Timestamp('2014-03-29 01:20:03'), Timestamp('2014-03-30 10:24:03'), Timestamp('2014-04-01 11:42:03'), Timestamp('2014-04-02 12:38:03'), Timestamp('2014-04-03 18:00:03'), Timestamp('2014-04-04 13:30:03'), Timestamp('2014-04-05 19:40:03'), Timestamp('2014-04-09 23:30:03'), Timestamp('2014-04-21 00:15:35'), Timestamp('2014-04-22 08:00:03'), Timestamp('2014-04-22 22:24:03'), Timestamp('2014-04-28 01:04:03'), Timestamp('2014-04-29 04:36:03'), Timestamp('2014-04-30 07:12:03'), Timestamp('2014-04-30 23:00:03'), Timestamp('2014-05-01 07:30:03'), Timestamp('2014-05-03 07:30:03'), Timestamp('2014-05-10 22:50:03'), Timestamp('2014-05-19 05:40:11'), Timestamp('2014-05-20 03:50:23'), Timestamp('2014-05-21 11:30:35'), Timestamp('2014-06-04 10:16:03'), Timestamp('2014-06-13 00:00:03'), Timestamp('2014-06-13 17:32:03'), Timestamp('2014-06-15 23:24:03'), Timestamp('2014-06-16 08:12:03'), Timestamp('2014-06-19 13:20:03'), Timestamp('2014-06-21 03:00:03'), Timestamp('2014-07-02 16:45:35'), Timestamp('2014-07-05 21:50:23'), Timestamp('2014-07-08 16:00:03'), Timestamp('2014-07-09 17:06:03'), Timestamp('2014-07-18 00:00:03'), Timestamp('2014-07-18 06:20:03'), Timestamp('2014-07-28 02:50:35'), Timestamp('2014-07-29 09:40:35'), Timestamp('2014-07-30 02:50:03'), Timestamp('2014-08-03 16:56:03'), Timestamp('2014-08-15 15:20:23'), Timestamp('2014-09-19 08:10:11'), Timestamp('2014-09-20 04:25:11'), Timestamp('2014-09-20 23:20:23'), Timestamp('2014-09-21 11:00:03'), Timestamp('2014-09-25 19:04:03'), Timestamp('2014-10-05 14:20:23'), Timestamp('2014-10-10 15:40:07'), Timestamp('2014-10-14 17:20:03'), Timestamp('2014-10-18 06:12:03'), Timestamp('2014-11-09 06:12:03'), Timestamp('2014-11-28 03:44:03'), Timestamp('2014-12-11 23:20:03'), Timestamp('2014-12-12 02:50:03'), Timestamp('2014-12-18 07:40:03'), Timestamp('2014-12-20 00:10:03'), Timestamp('2014-12-24 02:21:35'), Timestamp('2014-12-29 08:30:35'), Timestamp('2015-01-12 13:52:03'), Timestamp('2015-01-15 01:00:03'), Timestamp('2015-01-15 12:52:03'), Timestamp('2015-01-21 02:45:35'), Timestamp('2015-02-04 18:00:03'), Timestamp('2015-02-12 00:00:03'), Timestamp('2015-02-21 17:40:11'), Timestamp('2015-02-27 22:40:11'), Timestamp('2015-02-28 02:10:11'), Timestamp('2015-03-15 00:30:35'), Timestamp('2015-03-16 10:10:11'), Timestamp('2015-04-02 12:00:03'), Timestamp('2015-04-04 21:25:03'), Timestamp('2015-04-06 18:15:35'), Timestamp('2015-04-12 21:00:35'), Timestamp('2015-04-12 22:15:35'), Timestamp('2015-04-16 04:36:03'), Timestamp('2015-04-17 00:00:03'), Timestamp('2015-04-25 02:00:03'), Timestamp('2015-05-02 14:30:35'), Timestamp('2015-05-04 00:00:03'), Timestamp('2015-05-05 20:25:03'), Timestamp('2015-05-06 23:12:03'), Timestamp('2015-05-11 03:30:03'), Timestamp('2015-05-13 17:40:03'), Timestamp('2015-05-16 09:00:03'), Timestamp('2015-06-05 00:50:23'), Timestamp('2015-06-14 04:48:03'), Timestamp('2015-06-22 16:00:03'), Timestamp('2015-07-02 20:20:06'), Timestamp('2015-07-04 10:00:06'), Timestamp('2015-07-07 16:20:06'), Timestamp('2015-07-08 07:04:06'), Timestamp('2015-07-18 22:15:34'), Timestamp('2015-07-19 04:00:06'), Timestamp('2015-08-05 06:00:06'), Timestamp('2015-08-08 03:40:06'), Timestamp('2015-08-12 11:10:06'), Timestamp('2015-08-14 07:00:06'), Timestamp('2015-08-23 03:40:06'), Timestamp('2015-08-26 18:50:22'), Timestamp('2015-09-20 05:12:06'), Timestamp('2015-09-23 16:45:34'), Timestamp('2015-09-28 05:40:10'), Timestamp('2015-10-20 16:00:06'), Timestamp('2015-10-26 09:48:06'), Timestamp('2015-11-18 17:56:06'), Timestamp('2015-11-26 19:50:06'), Timestamp('2015-12-09 19:48:06'), Timestamp('2015-12-11 16:40:10'), Timestamp('2015-12-15 20:00:06'), Timestamp('2015-12-19 03:30:34'), Timestamp('2015-12-20 14:48:06')]\n"
     ]
    }
   ],
   "source": [
    "ha_ls = []\n",
    "for item in result:\n",
    "    if len(result[item]) > 0:\n",
    "        ha_ls.append(item)\n",
    "\n",
    "ha_ls.sort()\n",
    "\n"
   ]
  }
 ],
 "metadata": {
  "kernelspec": {
   "display_name": "d2l-zh",
   "language": "python",
   "name": "python3"
  },
  "language_info": {
   "codemirror_mode": {
    "name": "ipython",
    "version": 3
   },
   "file_extension": ".py",
   "mimetype": "text/x-python",
   "name": "python",
   "nbconvert_exporter": "python",
   "pygments_lexer": "ipython3",
   "version": "3.10.11"
  }
 },
 "nbformat": 4,
 "nbformat_minor": 2
}
